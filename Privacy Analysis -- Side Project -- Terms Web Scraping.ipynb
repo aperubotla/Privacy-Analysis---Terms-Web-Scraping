{
 "cells": [
  {
   "cell_type": "code",
   "execution_count": null,
   "metadata": {},
   "outputs": [],
   "source": [
    "import requests\n",
    "from bs4 import BeautifulSoup\n",
    "import webbrowser \n",
    "\n",
    "Terms_and_Conditions = {'Spotify':'https://www.spotify.com/us/legal/end-user-agreement/plain/','Facebook Data Policy':'https://www.facebook.com/about/privacy/update','PayPal':'https://www.paypal.com/us/webapps/mpp/ua/privacy-full','Google':'https://policies.google.com/privacy?hl=en','Netflix Privacy Statement':'https://help.netflix.com/legal/privacy','Microsoft Privacy Statement':'https://privacy.microsoft.com/en-US/privacystatement','Goldman Sachs Global Privacy Policy':'https://www.goldmansachs.com/privacy-and-cookies/global-privacy-policy.html','UCSD Privacy Policy':'https://admissions.ucsd.edu/terms-of-use/privacy-policy.html'}\n",
    "\n",
    "def termsAndConditionsSearch():\n",
    "    \"\"\"Takes a webpage and outputs the number of occurances of the intended search word\n",
    "    \n",
    "    Paramters\n",
    "    ---------\n",
    "    input() : user input\n",
    "        Webpage that will be scraped and analyzed\n",
    "    input() : user input\n",
    "        Word that will be searched in the webpage\n",
    "    \n",
    "    Returns\n",
    "    -------\n",
    "    output : string\n",
    "        occurances of the search word\n",
    "    output: float\n",
    "        percentage of the word occurance of the total number of words on the webpage\n",
    "    \"\"\"\n",
    "    print(Terms_and_Conditions.keys())\n",
    "    \n",
    "    #Take User's link to scrape \n",
    "    terms_and_conditions_input = input(\"Choose a terms of conditions:\")\n",
    "    \n",
    "    #Take User's word to search for \n",
    "    word_to_search = input('Enter a word to search for:')\n",
    "    terms_and_conditions_link = Terms_and_Conditions.get(terms_and_conditions_input)\n",
    "    \n",
    "    #Scrape the page and parse it using BeautifulSoup and split the text for analysis\n",
    "    page = requests.get(terms_and_conditions_link)\n",
    "    soup = BeautifulSoup(page.content,'html.parser')\n",
    "    terms_converted_to_text = soup.get_text()\n",
    "    text_terms_split = terms_converted_to_text.split()\n",
    "    \n",
    "    count = 0\n",
    "    for element in text_terms_split:\n",
    "        if element.lower() == word_to_search.lower():\n",
    "            count += 1 \n",
    "        else:\n",
    "            continue\n",
    "            \n",
    "    frequency_percent = (count/len(text_terms_split)) * 100\n",
    "    url = Terms_and_Conditions.get(terms_and_conditions_link)\n",
    "    print(\"Occurances of the word \" + word_to_search + \":\" ,count) \n",
    "    print(word_to_search + \" appears in \",frequency_percent,\"% of the page\")\n",
    "    url = terms_and_conditions_link\n",
    "    webbrowser.open(url)\n",
    "   "
   ]
  },
  {
   "cell_type": "code",
   "execution_count": null,
   "metadata": {},
   "outputs": [],
   "source": [
    "termsAndConditionsSearch()"
   ]
  },
  {
   "cell_type": "code",
   "execution_count": null,
   "metadata": {},
   "outputs": [],
   "source": []
  }
 ],
 "metadata": {
  "kernelspec": {
   "display_name": "Python 3",
   "language": "python",
   "name": "python3"
  },
  "language_info": {
   "codemirror_mode": {
    "name": "ipython",
    "version": 3
   },
   "file_extension": ".py",
   "mimetype": "text/x-python",
   "name": "python",
   "nbconvert_exporter": "python",
   "pygments_lexer": "ipython3",
   "version": "3.7.0"
  }
 },
 "nbformat": 4,
 "nbformat_minor": 2
}
